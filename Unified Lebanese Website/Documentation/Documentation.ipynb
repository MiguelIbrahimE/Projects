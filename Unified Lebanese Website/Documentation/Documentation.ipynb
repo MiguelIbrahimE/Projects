{
 "cells": [
  {
   "cell_type": "markdown",
   "metadata": {},
   "source": [
    "Documenation in ipynb"
   ]
  },
  {
   "cell_type": "markdown",
   "metadata": {},
   "source": [
    "In this Documentation I will be discussing the reason behind this website\n"
   ]
  },
  {
   "attachments": {},
   "cell_type": "markdown",
   "metadata": {},
   "source": [
    "Starting with the Naming Scheme:\n",
    "             The Reason why it is named Unified is because it Unifies different aspects in Lebanon, from the different websites \n",
    "             \n",
    "             \n",
    "             "
   ]
  },
  {
   "cell_type": "markdown",
   "metadata": {},
   "source": [
    "To the tourstic attraction that may not be found on one website located in Lebanon\n"
   ]
  },
  {
   "cell_type": "markdown",
   "metadata": {},
   "source": [
    "The reason for creating this website is because the display of recommended items on google is too shrinked and many"
   ]
  },
  {
   "cell_type": "markdown",
   "metadata": {},
   "source": [
    "It is important to create a simple- user-friendly display of information to allow the user to feel comfortable using the website"
   ]
  },
  {
   "attachments": {},
   "cell_type": "markdown",
   "metadata": {},
   "source": [
    "This helps to promote the Country as a whole as well and make the artistic and minimalist aspect appeal to foriengers who are debating whether to come or not.\n",
    "\n",
    "Providign good documentation ad providing ervices that serve as a process to help people commute from one place to another using transportations available in Lebanon, and well as the different touristic sites in Lebanon that may not appear on review sites\n"
   ]
  },
  {
   "attachments": {},
   "cell_type": "markdown",
   "metadata": {},
   "source": [
    "\n",
    "\n",
    "### Q: WHY DID YOU CREATE THIS WEBSITE? WHATS THE PROBLEM TO BE SOLVED"
   ]
  },
  {
   "attachments": {},
   "cell_type": "markdown",
   "metadata": {},
   "source": [
    "A: I created this website from an experience I had whilst surfing google's maps and viewed many different restaurants that appealed to me however they were too many to process, making me go with the restaurants that I know well."
   ]
  },
  {
   "attachments": {},
   "cell_type": "markdown",
   "metadata": {},
   "source": [
    "I hope to produce a good shrinked easy to use website that is responsive for both tourists and Lebanese people to use ~ Miguel Before Version 2\n",
    "\n",
    "After being assessed by the Teacher's Assistant, I needed to add more functionalities which is not the reason behind this website; however, it made sense to make it more appealing by not linking to external websites (such as in Tourism.html); however, to make it all internalized increasing quality, performance, integrity, and love."
   ]
  },
  {
   "cell_type": "markdown",
   "metadata": {},
   "source": [
    "Index.html: index.html acts as a first page welcoming users to the webpage\n",
    "and rerouting people to the webpage of their choice"
   ]
  },
  {
   "attachments": {},
   "cell_type": "markdown",
   "metadata": {},
   "source": [
    "Version 1:\n",
    "Restaurants.html: Restaurants.html hosts a page that has information about\n",
    "different restaurants in Lebanon; however, it is much smaller than\n",
    "what is expected to be seen in real life.\n",
    "There exists many different restaurants in Lebanon\n",
    "Version 2:\n",
    "After adding average reviews with their floor (4.5=> 4)\n",
    "The functionlity: Review is being discussed and whether to add, maybe it can be tied to the cookie of the person that is logged in.\n"
   ]
  },
  {
   "attachments": {},
   "cell_type": "markdown",
   "metadata": {},
   "source": [
    "Version 1:\n",
    "Tourism.html: Tourism.html is a webpage that hosts images of touristic \n",
    "sites around Lebanon as well as relevant places around that area.\n",
    "Version 2:\n",
    "The Names can be clicked apon and lead to a web page that\n",
    "has the mapof the location and its surrundings as well as\n",
    "a brief introduction of the place visiting with pictures\n",
    "not necessarily the best pictures\n",
    "Some are taken by hand by me: Anjar"
   ]
  },
  {
   "attachments": {},
   "cell_type": "markdown",
   "metadata": {},
   "source": [
    "Sign Up page is a typical sign up page that leads to a personalized website\n",
    "\n",
    "\n",
    "\n"
   ]
  },
  {
   "attachments": {},
   "cell_type": "markdown",
   "metadata": {},
   "source": [
    "Bus routes, Bus routes is an impressive overview of the different bus and van routes that people take in Lebanon. It is up to date and easy to comprehend, it also ONLY links the touristic sites as well as SOME restaurats."
   ]
  }
 ],
 "metadata": {
  "kernelspec": {
   "display_name": "Python 3.10.5 64-bit",
   "language": "python",
   "name": "python3"
  },
  "language_info": {
   "codemirror_mode": {
    "name": "ipython",
    "version": 3
   },
   "file_extension": ".py",
   "mimetype": "text/x-python",
   "name": "python",
   "nbconvert_exporter": "python",
   "pygments_lexer": "ipython3",
   "version": "3.10.5"
  },
  "orig_nbformat": 4,
  "vscode": {
   "interpreter": {
    "hash": "e8a00227fbbeabfee3e4c7eae78ea7efab3aaaa5b33f3ff28071daefabaeab66"
   }
  }
 },
 "nbformat": 4,
 "nbformat_minor": 2
}
